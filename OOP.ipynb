{
 "cells": [
  {
   "cell_type": "markdown",
   "id": "8ed8d975-765c-4d95-a2fd-4b7d5dbee9a5",
   "metadata": {},
   "source": [
    "Class"
   ]
  },
  {
   "cell_type": "code",
   "execution_count": 2,
   "id": "0a2f4210-f98d-4567-94c4-016e5185eabd",
   "metadata": {},
   "outputs": [],
   "source": [
    "class Worker():\n",
    "     def __init__(self,name,age):\n",
    "         self.name = name\n",
    "         self.age = age\n",
    "\n",
    "     def work(self):\n",
    "         print(f\"working\")"
   ]
  },
  {
   "cell_type": "code",
   "execution_count": 3,
   "id": "05592a92-04da-4147-8ddd-59cf0e6b65b1",
   "metadata": {},
   "outputs": [],
   "source": [
    "worker = Worker(\"Ceksin\",32)"
   ]
  },
  {
   "cell_type": "code",
   "execution_count": 4,
   "id": "b6f10473-5628-4438-ab86-c24b7b3880f4",
   "metadata": {},
   "outputs": [
    {
     "name": "stdout",
     "output_type": "stream",
     "text": [
      "Ceksin\n"
     ]
    }
   ],
   "source": [
    "print(worker.name)"
   ]
  },
  {
   "cell_type": "code",
   "execution_count": 5,
   "id": "ae3da830-a36b-47cf-8d52-6965d9eca817",
   "metadata": {},
   "outputs": [
    {
     "name": "stdout",
     "output_type": "stream",
     "text": [
      "working\n"
     ]
    }
   ],
   "source": [
    "worker.work()"
   ]
  },
  {
   "cell_type": "code",
   "execution_count": 6,
   "id": "c921f33d-98c4-4ca6-8fd3-b27921dd065c",
   "metadata": {},
   "outputs": [],
   "source": [
    "class CurrencyConverter():\n",
    "    factor = 1.7\n",
    "    def __init__(self,usd = 1):\n",
    "        self.usd = usd\n",
    "        self.convert_usd = self.factor * usd\n",
    "\n",
    "    def converter(self):\n",
    "        return self.factor * self.usd"
   ]
  },
  {
   "cell_type": "code",
   "execution_count": 7,
   "id": "c9a19755-a212-4fac-b188-6421f91c7c99",
   "metadata": {},
   "outputs": [],
   "source": [
    "currency_converter = CurrencyConverter(2)"
   ]
  },
  {
   "cell_type": "code",
   "execution_count": 8,
   "id": "b8eba13a-21da-4260-8e95-49f19249e3dd",
   "metadata": {},
   "outputs": [
    {
     "data": {
      "text/plain": [
       "3.4"
      ]
     },
     "execution_count": 8,
     "metadata": {},
     "output_type": "execute_result"
    }
   ],
   "source": [
    "currency_converter.converter()"
   ]
  },
  {
   "cell_type": "code",
   "execution_count": 9,
   "id": "b28ddaed-7166-4c3d-b373-eeb13647c150",
   "metadata": {},
   "outputs": [
    {
     "data": {
      "text/plain": [
       "3.4"
      ]
     },
     "execution_count": 9,
     "metadata": {},
     "output_type": "execute_result"
    }
   ],
   "source": [
    "currency_converter.convert_usd"
   ]
  },
  {
   "cell_type": "markdown",
   "id": "46f1db4c-dcec-476e-9b76-02cea7c303dd",
   "metadata": {},
   "source": [
    "Inheritance"
   ]
  },
  {
   "cell_type": "code",
   "execution_count": 11,
   "id": "892d7e4f-c0ab-4d5a-8e75-611c40e0923b",
   "metadata": {},
   "outputs": [],
   "source": [
    "class Class1():\n",
    "    def __init__(self):\n",
    "        print(\"Class1\")\n",
    "        \n",
    "    def method_1(self):\n",
    "        print(\"method1\")\n",
    "        \n",
    "    def method_2(self):\n",
    "        print(\"method2\")"
   ]
  },
  {
   "cell_type": "code",
   "execution_count": 37,
   "id": "ea453331-b471-4743-a211-32fe1aae0637",
   "metadata": {},
   "outputs": [],
   "source": [
    "class Class2(Class1):\n",
    "    def __init__(self):\n",
    "        Class1.__init__(self)\n",
    "        print(\"Class2\")\n",
    "        \n",
    "    def method_1(self):\n",
    "        print(\"method1 overwrite\")"
   ]
  },
  {
   "cell_type": "code",
   "execution_count": 23,
   "id": "aa43df07-576f-4f90-ae11-5f07d7bbe760",
   "metadata": {},
   "outputs": [
    {
     "name": "stdout",
     "output_type": "stream",
     "text": [
      "Class1\n"
     ]
    }
   ],
   "source": [
    "class1 = Class1()"
   ]
  },
  {
   "cell_type": "code",
   "execution_count": 25,
   "id": "f7623f5f-16f5-43b0-ac66-63dc1436dfa4",
   "metadata": {},
   "outputs": [
    {
     "name": "stdout",
     "output_type": "stream",
     "text": [
      "Class1\n",
      "Class2\n"
     ]
    }
   ],
   "source": [
    "class2 = Class2()"
   ]
  },
  {
   "cell_type": "code",
   "execution_count": 29,
   "id": "eee8b0d5-a97d-4d8f-9e74-54391754303c",
   "metadata": {},
   "outputs": [
    {
     "name": "stdout",
     "output_type": "stream",
     "text": [
      "method1\n"
     ]
    }
   ],
   "source": [
    "class1.method_1()"
   ]
  },
  {
   "cell_type": "code",
   "execution_count": 39,
   "id": "878ca692-794d-4f77-849b-b48c17657bdb",
   "metadata": {},
   "outputs": [
    {
     "name": "stdout",
     "output_type": "stream",
     "text": [
      "method1 overwrite\n"
     ]
    }
   ],
   "source": [
    "class2.method_1()"
   ]
  },
  {
   "cell_type": "markdown",
   "id": "a2905a08-9852-4f64-8887-ec3fae0c025a",
   "metadata": {},
   "source": [
    "Polymorphism\n"
   ]
  },
  {
   "cell_type": "code",
   "execution_count": 190,
   "id": "d2f7fcdb-fad8-40be-b83c-2567bf1410e2",
   "metadata": {},
   "outputs": [],
   "source": [
    "class Calculate1():\n",
    "\n",
    "    def __init__(self,a,b):\n",
    "        self.a = a\n",
    "        self.b = b\n",
    "\n",
    "            \n",
    "    def multiply(self):\n",
    "        return self.a * self.b"
   ]
  },
  {
   "cell_type": "code",
   "execution_count": 192,
   "id": "8bbc2e22-9090-41f8-af8d-749541ec3813",
   "metadata": {},
   "outputs": [],
   "source": [
    "class Calculate2():\n",
    "\n",
    "    def __init__(self,a):\n",
    "        self.a = a\n",
    "    def multiply(self):\n",
    "        return self.a ** 2"
   ]
  },
  {
   "cell_type": "code",
   "execution_count": 194,
   "id": "35e28c67-15bf-41c0-97ab-91cd253eada7",
   "metadata": {},
   "outputs": [],
   "source": [
    "calc1 = Calculate1(5,6)\n",
    "calc2 = Calculate2(5)"
   ]
  },
  {
   "cell_type": "code",
   "execution_count": 196,
   "id": "1dfc67c4-5e4d-45cc-b04e-f81cb8a2bda8",
   "metadata": {},
   "outputs": [],
   "source": [
    "calc_list = [calc1,calc2]"
   ]
  },
  {
   "cell_type": "code",
   "execution_count": 202,
   "id": "6cbbca52-6f5c-477b-9b62-877ad85d5635",
   "metadata": {},
   "outputs": [
    {
     "name": "stdout",
     "output_type": "stream",
     "text": [
      "30\n",
      "25\n"
     ]
    }
   ],
   "source": [
    "for c in calc_list:\n",
    "    print(c.multiply())"
   ]
  },
  {
   "cell_type": "code",
   "execution_count": null,
   "id": "d44634e6-4a21-4a7c-90cb-cee857398e64",
   "metadata": {},
   "outputs": [],
   "source": []
  }
 ],
 "metadata": {
  "kernelspec": {
   "display_name": "Python 3 (ipykernel)",
   "language": "python",
   "name": "python3"
  },
  "language_info": {
   "codemirror_mode": {
    "name": "ipython",
    "version": 3
   },
   "file_extension": ".py",
   "mimetype": "text/x-python",
   "name": "python",
   "nbconvert_exporter": "python",
   "pygments_lexer": "ipython3",
   "version": "3.12.4"
  }
 },
 "nbformat": 4,
 "nbformat_minor": 5
}
