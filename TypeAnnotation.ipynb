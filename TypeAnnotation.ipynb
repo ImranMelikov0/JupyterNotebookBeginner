{
 "cells": [
  {
   "cell_type": "markdown",
   "id": "eff5f8a8-bc77-4893-8b08-d25d98206ff4",
   "metadata": {},
   "source": [
    "# TypeAnnotation"
   ]
  },
  {
   "cell_type": "code",
   "execution_count": 2,
   "id": "baec434e-964f-42f3-891e-3e9a34ca251b",
   "metadata": {},
   "outputs": [],
   "source": [
    "def number(num : int) -> int:\n",
    "    return num"
   ]
  },
  {
   "cell_type": "code",
   "execution_count": 4,
   "id": "b5971e67-cb99-425c-ace1-bd6c54b68d05",
   "metadata": {},
   "outputs": [
    {
     "data": {
      "text/plain": [
       "5"
      ]
     },
     "execution_count": 4,
     "metadata": {},
     "output_type": "execute_result"
    }
   ],
   "source": [
    "number(5)"
   ]
  },
  {
   "cell_type": "code",
   "execution_count": 10,
   "id": "625138a2-538e-44cd-a8bf-09d3f42f6aca",
   "metadata": {},
   "outputs": [],
   "source": [
    "def process_value(value : str | int) -> int:\n",
    "    if isinstance(value , str):\n",
    "        return \"string\"\n",
    "    else:\n",
    "        return value"
   ]
  },
  {
   "cell_type": "code",
   "execution_count": 16,
   "id": "d426998b-7e47-4f44-ab42-af2cd9530bfe",
   "metadata": {},
   "outputs": [
    {
     "data": {
      "text/plain": [
       "'string'"
      ]
     },
     "execution_count": 16,
     "metadata": {},
     "output_type": "execute_result"
    }
   ],
   "source": [
    "process_value(\"a\")"
   ]
  },
  {
   "cell_type": "code",
   "execution_count": null,
   "id": "f70edd6c-0596-4eda-9023-20f91f7bf245",
   "metadata": {},
   "outputs": [],
   "source": []
  }
 ],
 "metadata": {
  "kernelspec": {
   "display_name": "Python 3 (ipykernel)",
   "language": "python",
   "name": "python3"
  },
  "language_info": {
   "codemirror_mode": {
    "name": "ipython",
    "version": 3
   },
   "file_extension": ".py",
   "mimetype": "text/x-python",
   "name": "python",
   "nbconvert_exporter": "python",
   "pygments_lexer": "ipython3",
   "version": "3.12.4"
  }
 },
 "nbformat": 4,
 "nbformat_minor": 5
}
