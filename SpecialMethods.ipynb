{
 "cells": [
  {
   "cell_type": "code",
   "execution_count": 7,
   "id": "d2c5e8d0-7a8d-4aed-9c59-e5ab28c2fd42",
   "metadata": {},
   "outputs": [],
   "source": [
    "class MyClass:\n",
    "    def __init__(self,number):\n",
    "        self.number = number\n",
    "        print(\"init\")\n",
    "    def __str__(self):\n",
    "        return \"string\"\n",
    "    def __len__(self):\n",
    "        return self.number"
   ]
  },
  {
   "cell_type": "code",
   "execution_count": 9,
   "id": "cc6992ba-1416-41f1-894e-6749f3ae88cc",
   "metadata": {},
   "outputs": [
    {
     "name": "stdout",
     "output_type": "stream",
     "text": [
      "init\n"
     ]
    }
   ],
   "source": [
    "my_class = MyClass(10)"
   ]
  },
  {
   "cell_type": "code",
   "execution_count": 11,
   "id": "6d695a15-0ab0-4fe5-8763-8b8c0a91fc3d",
   "metadata": {},
   "outputs": [
    {
     "data": {
      "text/plain": [
       "'string'"
      ]
     },
     "execution_count": 11,
     "metadata": {},
     "output_type": "execute_result"
    }
   ],
   "source": [
    "str(my_class)"
   ]
  },
  {
   "cell_type": "code",
   "execution_count": 13,
   "id": "09ead0c0-e658-47f9-b849-1d44c44d920d",
   "metadata": {},
   "outputs": [
    {
     "data": {
      "text/plain": [
       "10"
      ]
     },
     "execution_count": 13,
     "metadata": {},
     "output_type": "execute_result"
    }
   ],
   "source": [
    "len(my_class)"
   ]
  },
  {
   "cell_type": "code",
   "execution_count": null,
   "id": "7f7c4e90-1219-479f-a4ca-a0024b931431",
   "metadata": {},
   "outputs": [],
   "source": []
  }
 ],
 "metadata": {
  "kernelspec": {
   "display_name": "Python 3 (ipykernel)",
   "language": "python",
   "name": "python3"
  },
  "language_info": {
   "codemirror_mode": {
    "name": "ipython",
    "version": 3
   },
   "file_extension": ".py",
   "mimetype": "text/x-python",
   "name": "python",
   "nbconvert_exporter": "python",
   "pygments_lexer": "ipython3",
   "version": "3.12.4"
  }
 },
 "nbformat": 4,
 "nbformat_minor": 5
}
