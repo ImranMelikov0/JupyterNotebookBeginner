{
 "cells": [
  {
   "cell_type": "code",
   "execution_count": 4,
   "id": "80ff9ed9-d6e8-4aab-ac46-09f234e6f155",
   "metadata": {},
   "outputs": [
    {
     "name": "stdin",
     "output_type": "stream",
     "text": [
      "Please type the first number:  g\n"
     ]
    },
    {
     "name": "stdout",
     "output_type": "stream",
     "text": [
      "You can choose only numbers!\n"
     ]
    },
    {
     "name": "stdin",
     "output_type": "stream",
     "text": [
      "Please type the first number:  5*\n"
     ]
    },
    {
     "name": "stdout",
     "output_type": "stream",
     "text": [
      "You can choose only numbers!\n"
     ]
    },
    {
     "name": "stdin",
     "output_type": "stream",
     "text": [
      "Please type the first number:  5\n",
      "Please type the second number:  8\n",
      "Choose between +, -, *, /:  *\n"
     ]
    },
    {
     "name": "stdout",
     "output_type": "stream",
     "text": [
      "5 * 8 = 40\n"
     ]
    }
   ],
   "source": [
    "def calc(first_number,second_number,parametres):\n",
    "    if parametres == \"+\":\n",
    "       return str(first_number) + \" \" + parametres + \" \" + str(second_number) + \" = \" + str(first_number + second_number)\n",
    "    elif parametres == \"-\":\n",
    "        return str(first_number) + \" \" + parametres + \" \" + str(second_number) + \" = \" + str(first_number - second_number)\n",
    "    elif parametres == \"*\":\n",
    "        return str(first_number) + \" \" + parametres + \" \" + str(second_number) + \" = \" + str(first_number * second_number)\n",
    "    elif parametres == \"/\":\n",
    "        return str(first_number) + \" \" + parametres + \" \" + str(second_number) + \" = \" + str(first_number / second_number)\n",
    "    else:\n",
    "        return print(\"You can choose only between +, -, *, /)\")\n",
    "\n",
    "while True:\n",
    "    try:\n",
    "         first_number = int(input(\"Please type the first number: \"))\n",
    "         second_number = int(input(\"Please type the second number: \"))\n",
    "         parametres = input(\"Choose between +, -, *, /: \")\n",
    "         print(calc(first_number,second_number,parametres))\n",
    "         break\n",
    "    except(ValueError):\n",
    "        print(\"You can choose only numbers!\")"
   ]
  },
  {
   "cell_type": "code",
   "execution_count": null,
   "id": "ad138e9d-6dd2-4216-a87f-2ab88e9536c6",
   "metadata": {},
   "outputs": [],
   "source": []
  }
 ],
 "metadata": {
  "kernelspec": {
   "display_name": "Python 3 (ipykernel)",
   "language": "python",
   "name": "python3"
  },
  "language_info": {
   "codemirror_mode": {
    "name": "ipython",
    "version": 3
   },
   "file_extension": ".py",
   "mimetype": "text/x-python",
   "name": "python",
   "nbconvert_exporter": "python",
   "pygments_lexer": "ipython3",
   "version": "3.12.4"
  }
 },
 "nbformat": 4,
 "nbformat_minor": 5
}
