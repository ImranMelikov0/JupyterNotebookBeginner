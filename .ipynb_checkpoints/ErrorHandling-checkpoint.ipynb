{
 "cells": [
  {
   "cell_type": "markdown",
   "id": "5c23ad47-3b38-4e57-9454-0f7a533e0687",
   "metadata": {},
   "source": [
    "# Try except finally\n"
   ]
  },
  {
   "cell_type": "code",
   "execution_count": 2,
   "id": "45e9fce5-2e6a-4bb7-8215-0b427a5f3fbc",
   "metadata": {},
   "outputs": [],
   "source": [
    "def sum(a,b):\n",
    "    return a+b"
   ]
  },
  {
   "cell_type": "code",
   "execution_count": null,
   "id": "066da34c-ae29-4333-93a7-5787d9589bf7",
   "metadata": {},
   "outputs": [
    {
     "name": "stdin",
     "output_type": "stream",
     "text": [
      "Enter first number:  g\n"
     ]
    },
    {
     "name": "stdout",
     "output_type": "stream",
     "text": [
      "Enter numbers!!!\n",
      "finally\n"
     ]
    }
   ],
   "source": [
    "while True:\n",
    "    try:\n",
    "        a = int(input(\"Enter first number: \"))\n",
    "        b = int(input(\"Enter second number: \"))\n",
    "        print(sum(a,b))\n",
    "    except:\n",
    "        print(\"Enter numbers!!!\")\n",
    "    else:\n",
    "        print(\"OK\")\n",
    "        break\n",
    "    finally:\n",
    "        print(\"finally\")\n",
    "    "
   ]
  },
  {
   "cell_type": "markdown",
   "id": "792f4be5-1bae-47c4-b03c-68371b944f98",
   "metadata": {},
   "source": []
  }
 ],
 "metadata": {
  "kernelspec": {
   "display_name": "Python 3 (ipykernel)",
   "language": "python",
   "name": "python3"
  },
  "language_info": {
   "codemirror_mode": {
    "name": "ipython",
    "version": 3
   },
   "file_extension": ".py",
   "mimetype": "text/x-python",
   "name": "python",
   "nbconvert_exporter": "python",
   "pygments_lexer": "ipython3",
   "version": "3.12.4"
  }
 },
 "nbformat": 4,
 "nbformat_minor": 5
}
